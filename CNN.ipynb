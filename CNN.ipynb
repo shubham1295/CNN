{
 "cells": [
  {
   "cell_type": "code",
   "execution_count": 1,
   "metadata": {},
   "outputs": [
    {
     "name": "stderr",
     "output_type": "stream",
     "text": [
      "G:\\Anaconda3\\lib\\site-packages\\h5py\\__init__.py:36: FutureWarning: Conversion of the second argument of issubdtype from `float` to `np.floating` is deprecated. In future, it will be treated as `np.float64 == np.dtype(float).type`.\n",
      "  from ._conv import register_converters as _register_converters\n",
      "Using TensorFlow backend.\n"
     ]
    }
   ],
   "source": [
    "from keras.models import Sequential\n",
    "from keras.layers import Conv2D, MaxPooling2D, Flatten, Dense"
   ]
  },
  {
   "cell_type": "code",
   "execution_count": 2,
   "metadata": {},
   "outputs": [],
   "source": [
    "model = Sequential()\n",
    "\n",
    "model.add( Conv2D(32,(3,3), input_shape=(64,64,3), activation = 'relu') )\n",
    "model.add( MaxPooling2D(pool_size= (2,2)) )\n",
    "\n",
    "model.add( Conv2D(32,(3,3), activation = 'relu') )\n",
    "model.add( MaxPooling2D(pool_size= (2,2)) )\n",
    "\n",
    "model.add( Flatten() )"
   ]
  },
  {
   "cell_type": "code",
   "execution_count": 3,
   "metadata": {},
   "outputs": [],
   "source": [
    "model.add( Dense(128,activation= 'relu') )\n",
    "model.add( Dense(1,activation= 'sigmoid') )"
   ]
  },
  {
   "cell_type": "code",
   "execution_count": 4,
   "metadata": {},
   "outputs": [],
   "source": [
    "model.compile( optimizer='adam', loss= 'binary_crossentropy', metrics=['accuracy'] )"
   ]
  },
  {
   "cell_type": "code",
   "execution_count": 5,
   "metadata": {},
   "outputs": [
    {
     "name": "stdout",
     "output_type": "stream",
     "text": [
      "Found 8000 images belonging to 2 classes.\n",
      "Found 2000 images belonging to 2 classes.\n",
      "Epoch 1/10\n",
      "800/800 [==============================] - 896s 1s/step - loss: 0.6310 - acc: 0.6332 - val_loss: 0.5481 - val_acc: 0.7310\n",
      "Epoch 2/10\n",
      "800/800 [==============================] - 397s 496ms/step - loss: 0.5172 - acc: 0.7398 - val_loss: 0.5056 - val_acc: 0.7494\n",
      "Epoch 3/10\n",
      "800/800 [==============================] - 397s 497ms/step - loss: 0.4586 - acc: 0.7806 - val_loss: 0.4730 - val_acc: 0.7829\n",
      "Epoch 4/10\n",
      "800/800 [==============================] - 398s 497ms/step - loss: 0.4135 - acc: 0.8088 - val_loss: 0.4884 - val_acc: 0.7764\n",
      "Epoch 5/10\n",
      "800/800 [==============================] - 397s 497ms/step - loss: 0.3672 - acc: 0.8319 - val_loss: 0.4820 - val_acc: 0.7920\n",
      "Epoch 6/10\n",
      "800/800 [==============================] - 398s 498ms/step - loss: 0.3251 - acc: 0.8565 - val_loss: 0.4889 - val_acc: 0.8054\n",
      "Epoch 7/10\n",
      "800/800 [==============================] - 397s 497ms/step - loss: 0.2840 - acc: 0.8796 - val_loss: 0.5072 - val_acc: 0.7960\n",
      "Epoch 8/10\n",
      "800/800 [==============================] - 396s 495ms/step - loss: 0.2430 - acc: 0.8988 - val_loss: 0.5751 - val_acc: 0.7694\n",
      "Epoch 9/10\n",
      "800/800 [==============================] - 397s 496ms/step - loss: 0.2072 - acc: 0.9161 - val_loss: 0.5913 - val_acc: 0.7870\n",
      "Epoch 10/10\n",
      "800/800 [==============================] - 405s 506ms/step - loss: 0.1827 - acc: 0.9269 - val_loss: 0.6138 - val_acc: 0.7969\n"
     ]
    },
    {
     "data": {
      "text/plain": [
       "<keras.callbacks.History at 0x202a3b21550>"
      ]
     },
     "execution_count": 5,
     "metadata": {},
     "output_type": "execute_result"
    }
   ],
   "source": [
    "from keras.preprocessing.image import ImageDataGenerator\n",
    "\n",
    "train_datagen = ImageDataGenerator(rescale = 1./255,\n",
    "                                   shear_range = 0.2,\n",
    "                                   zoom_range = 0.2,\n",
    "                                   horizontal_flip = True)\n",
    "\n",
    "test_datagen = ImageDataGenerator(rescale = 1./255)\n",
    "\n",
    "training_set = train_datagen.flow_from_directory('dataset/training_set',\n",
    "                                                 target_size = (64, 64),\n",
    "                                                 batch_size = 32,\n",
    "                                                 class_mode = 'binary')\n",
    "\n",
    "test_set = test_datagen.flow_from_directory('dataset/test_set',\n",
    "                                            target_size = (64, 64),\n",
    "                                            batch_size = 32,\n",
    "                                            class_mode = 'binary')\n",
    "\n",
    "model.fit_generator(training_set,\n",
    "                         steps_per_epoch = 800,\n",
    "                         epochs = 10,\n",
    "                         validation_data = test_set,\n",
    "                         validation_steps = 200)"
   ]
  },
  {
   "cell_type": "code",
   "execution_count": 7,
   "metadata": {},
   "outputs": [],
   "source": [
    "model.save('D://model.h5')"
   ]
  },
  {
   "cell_type": "code",
   "execution_count": 21,
   "metadata": {},
   "outputs": [],
   "source": [
    "from keras.models import load_model\n",
    "model = load_model('G://model.h5')\n",
    "import numpy as np\n",
    "from keras.preprocessing import image\n",
    "test_image = image.load_img('dataset/single_prediction/cat_or_dog_1.jpg', target_size = (64, 64))\n",
    "test_image = image.img_to_array(test_image)\n",
    "test_image = np.expand_dims(test_image, axis = 0)\n",
    "result = model.predict(test_image)\n",
    "training_set.class_indices\n",
    "if result[0][0] == 1:\n",
    "    prediction = 'dog'\n",
    "else:\n",
    "    prediction = 'cat'"
   ]
  },
  {
   "cell_type": "code",
   "execution_count": 22,
   "metadata": {},
   "outputs": [
    {
     "name": "stdout",
     "output_type": "stream",
     "text": [
      "dog\n"
     ]
    }
   ],
   "source": [
    "print(prediction)"
   ]
  },
  {
   "cell_type": "code",
   "execution_count": null,
   "metadata": {},
   "outputs": [],
   "source": []
  }
 ],
 "metadata": {
  "kernelspec": {
   "display_name": "Python 3",
   "language": "python",
   "name": "python3"
  },
  "language_info": {
   "codemirror_mode": {
    "name": "ipython",
    "version": 3
   },
   "file_extension": ".py",
   "mimetype": "text/x-python",
   "name": "python",
   "nbconvert_exporter": "python",
   "pygments_lexer": "ipython3",
   "version": "3.6.5"
  }
 },
 "nbformat": 4,
 "nbformat_minor": 2
}
